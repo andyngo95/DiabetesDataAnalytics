{
  "nbformat": 4,
  "nbformat_minor": 0,
  "metadata": {
    "colab": {
      "name": "analytical_diabetes_data.ipynb",
      "version": "0.3.2",
      "provenance": [],
      "toc_visible": true
    },
    "kernelspec": {
      "name": "python3",
      "display_name": "Python 3"
    },
    "accelerator": "GPU"
  },
  "cells": [
    {
      "cell_type": "code",
      "metadata": {
        "id": "aELwLGfvb1iA",
        "colab_type": "code",
        "colab": {}
      },
      "source": [
        "%matplotlib inline\n",
        "import pandas as pd\n",
        "import numpy as np\n",
        "import matplotlib.pyplot as plt\n",
        "import seaborn as sns"
      ],
      "execution_count": 0,
      "outputs": []
    },
    {
      "cell_type": "code",
      "metadata": {
        "id": "nWZ0YznffAbm",
        "colab_type": "code",
        "outputId": "a9f650b4-5768-4fdd-e84b-8e18735c600e",
        "colab": {
          "base_uri": "https://localhost:8080/",
          "height": 198
        }
      },
      "source": [
        "diabetes = pd.read_csv('diabetes.csv')\n",
        "diabetes.tail() "
      ],
      "execution_count": 0,
      "outputs": [
        {
          "output_type": "execute_result",
          "data": {
            "text/html": [
              "<div>\n",
              "<style scoped>\n",
              "    .dataframe tbody tr th:only-of-type {\n",
              "        vertical-align: middle;\n",
              "    }\n",
              "\n",
              "    .dataframe tbody tr th {\n",
              "        vertical-align: top;\n",
              "    }\n",
              "\n",
              "    .dataframe thead th {\n",
              "        text-align: right;\n",
              "    }\n",
              "</style>\n",
              "<table border=\"1\" class=\"dataframe\">\n",
              "  <thead>\n",
              "    <tr style=\"text-align: right;\">\n",
              "      <th></th>\n",
              "      <th>Pregnancies</th>\n",
              "      <th>Glucose</th>\n",
              "      <th>BloodPressure</th>\n",
              "      <th>SkinThickness</th>\n",
              "      <th>Insulin</th>\n",
              "      <th>BMI</th>\n",
              "      <th>DiabetesPedigreeFunction</th>\n",
              "      <th>Age</th>\n",
              "      <th>Outcome</th>\n",
              "    </tr>\n",
              "  </thead>\n",
              "  <tbody>\n",
              "    <tr>\n",
              "      <th>763</th>\n",
              "      <td>10</td>\n",
              "      <td>101</td>\n",
              "      <td>76</td>\n",
              "      <td>48</td>\n",
              "      <td>180</td>\n",
              "      <td>32.9</td>\n",
              "      <td>0.171</td>\n",
              "      <td>63</td>\n",
              "      <td>0</td>\n",
              "    </tr>\n",
              "    <tr>\n",
              "      <th>764</th>\n",
              "      <td>2</td>\n",
              "      <td>122</td>\n",
              "      <td>70</td>\n",
              "      <td>27</td>\n",
              "      <td>0</td>\n",
              "      <td>36.8</td>\n",
              "      <td>0.340</td>\n",
              "      <td>27</td>\n",
              "      <td>0</td>\n",
              "    </tr>\n",
              "    <tr>\n",
              "      <th>765</th>\n",
              "      <td>5</td>\n",
              "      <td>121</td>\n",
              "      <td>72</td>\n",
              "      <td>23</td>\n",
              "      <td>112</td>\n",
              "      <td>26.2</td>\n",
              "      <td>0.245</td>\n",
              "      <td>30</td>\n",
              "      <td>0</td>\n",
              "    </tr>\n",
              "    <tr>\n",
              "      <th>766</th>\n",
              "      <td>1</td>\n",
              "      <td>126</td>\n",
              "      <td>60</td>\n",
              "      <td>0</td>\n",
              "      <td>0</td>\n",
              "      <td>30.1</td>\n",
              "      <td>0.349</td>\n",
              "      <td>47</td>\n",
              "      <td>1</td>\n",
              "    </tr>\n",
              "    <tr>\n",
              "      <th>767</th>\n",
              "      <td>1</td>\n",
              "      <td>93</td>\n",
              "      <td>70</td>\n",
              "      <td>31</td>\n",
              "      <td>0</td>\n",
              "      <td>30.4</td>\n",
              "      <td>0.315</td>\n",
              "      <td>23</td>\n",
              "      <td>0</td>\n",
              "    </tr>\n",
              "  </tbody>\n",
              "</table>\n",
              "</div>"
            ],
            "text/plain": [
              "     Pregnancies  Glucose  ...  Age  Outcome\n",
              "763           10      101  ...   63        0\n",
              "764            2      122  ...   27        0\n",
              "765            5      121  ...   30        0\n",
              "766            1      126  ...   47        1\n",
              "767            1       93  ...   23        0\n",
              "\n",
              "[5 rows x 9 columns]"
            ]
          },
          "metadata": {
            "tags": []
          },
          "execution_count": 3
        }
      ]
    },
    {
      "cell_type": "code",
      "metadata": {
        "id": "gtjqS0KMffRd",
        "colab_type": "code",
        "outputId": "29231a3b-d645-487f-ac1f-7810531ed7ca",
        "colab": {
          "base_uri": "https://localhost:8080/",
          "height": 302
        }
      },
      "source": [
        "sns.countplot(diabetes['Outcome'], label='Count')"
      ],
      "execution_count": 0,
      "outputs": [
        {
          "output_type": "execute_result",
          "data": {
            "text/plain": [
              "<matplotlib.axes._subplots.AxesSubplot at 0x7fa60562dac8>"
            ]
          },
          "metadata": {
            "tags": []
          },
          "execution_count": 4
        },
        {
          "output_type": "display_data",
          "data": {
            "image/png": "[encoded data removed]",
            "text/plain": [
              "<Figure size 432x288 with 1 Axes>"
            ]
          },
          "metadata": {
            "tags": []
          }
        }
      ]
    },
    {
      "cell_type": "code",
      "metadata": {
        "id": "7XBgUiMdgEwO",
        "colab_type": "code",
        "outputId": "87ad2407-8da0-42e4-a6f3-ba0c4bec5975",
        "colab": {
          "base_uri": "https://localhost:8080/",
          "height": 199
        }
      },
      "source": [
        "diabetes.isnull().sum()"
      ],
      "execution_count": 0,
      "outputs": [
        {
          "output_type": "execute_result",
          "data": {
            "text/plain": [
              "Pregnancies                 0\n",
              "Glucose                     0\n",
              "BloodPressure               0\n",
              "SkinThickness               0\n",
              "Insulin                     0\n",
              "BMI                         0\n",
              "DiabetesPedigreeFunction    0\n",
              "Age                         0\n",
              "Outcome                     0\n",
              "dtype: int64"
            ]
          },
          "metadata": {
            "tags": []
          },
          "execution_count": 5
        }
      ]
    },
    {
      "cell_type": "code",
      "metadata": {
        "id": "V4q5_SfIgafN",
        "colab_type": "code",
        "outputId": "db7253d1-1e99-446f-957f-2e36c814c574",
        "colab": {
          "base_uri": "https://localhost:8080/",
          "height": 272
        }
      },
      "source": [
        "diabetes.info()"
      ],
      "execution_count": 0,
      "outputs": [
        {
          "output_type": "stream",
          "text": [
            "<class 'pandas.core.frame.DataFrame'>\n",
            "RangeIndex: 768 entries, 0 to 767\n",
            "Data columns (total 9 columns):\n",
            "Pregnancies                 768 non-null int64\n",
            "Glucose                     768 non-null int64\n",
            "BloodPressure               768 non-null int64\n",
            "SkinThickness               768 non-null int64\n",
            "Insulin                     768 non-null int64\n",
            "BMI                         768 non-null float64\n",
            "DiabetesPedigreeFunction    768 non-null float64\n",
            "Age                         768 non-null int64\n",
            "Outcome                     768 non-null int64\n",
            "dtypes: float64(2), int64(7)\n",
            "memory usage: 54.1 KB\n"
          ],
          "name": "stdout"
        }
      ]
    },
    {
      "cell_type": "markdown",
      "metadata": {
        "id": "_fn_wwdUJlA5",
        "colab_type": "text"
      },
      "source": [
        "###Phân tích - tiền xử lý dữ liệu"
      ]
    },
    {
      "cell_type": "code",
      "metadata": {
        "id": "yYaP6ChtgdwG",
        "colab_type": "code",
        "outputId": "7ff2855c-21de-43f1-b6f3-0ffca6cbaa3a",
        "colab": {
          "base_uri": "https://localhost:8080/",
          "height": 1000
        }
      },
      "source": [
        "diabetes.groupby('Outcome').hist(figsize=(9, 9))"
      ],
      "execution_count": 0,
      "outputs": [
        {
          "output_type": "execute_result",
          "data": {
            "text/plain": [
              "Outcome\n",
              "0    [[AxesSubplot(0.125,0.670278;0.215278x0.209722...\n",
              "1    [[AxesSubplot(0.125,0.670278;0.215278x0.209722...\n",
              "dtype: object"
            ]
          },
          "metadata": {
            "tags": []
          },
          "execution_count": 7
        },
        {
          "output_type": "display_data",
          "data": {
            "image/png": "[encoded data removed]",
            "text/plain": [
              "<Figure size 648x648 with 9 Axes>"
            ]
          },
          "metadata": {
            "tags": []
          }
        },
        {
          "output_type": "display_data",
          "data": {
            "image/png": "[encoded data removed]",
            "text/plain": [
              "<Figure size 648x648 with 9 Axes>"
            ]
          },
          "metadata": {
            "tags": []
          }
        }
      ]
    },
    {
      "cell_type": "markdown",
      "metadata": {
        "id": "bVXpsUowiyAm",
        "colab_type": "text"
      },
      "source": [
        "####Tại sao BMI, Blood Pressure, DiabetesPedigreeFunction, Glucose, Insulin, Skin Thickness có giá trị 0?\n",
        "\n",
        "\n",
        "\n",
        "*   Blood pressure, Glucose huyết tương lúc đối, và Insulin của người bình thường không thể mang giá trị 0\n",
        "*   BMI được tính bằng weight / (height * height) cũng không thể mang giá trị 0\n",
        "*   Skin Thickness của người bình thường là 2.5mm (men) hoặc 18.0mm (women) không thể có giá trị 0"
      ]
    },
    {
      "cell_type": "code",
      "metadata": {
        "id": "JN1gFmCbrVO3",
        "colab_type": "code",
        "outputId": "9d4233cb-4271-4aa7-bb27-8fd202517fb6",
        "colab": {
          "base_uri": "https://localhost:8080/",
          "height": 35
        }
      },
      "source": [
        "print(\"Total : \", diabetes[diabetes.BloodPressure == 0].shape[0])"
      ],
      "execution_count": 0,
      "outputs": [
        {
          "output_type": "stream",
          "text": [
            "Total :  35\n"
          ],
          "name": "stdout"
        }
      ]
    },
    {
      "cell_type": "markdown",
      "metadata": {
        "id": "uWWfUyE4r1P5",
        "colab_type": "text"
      },
      "source": [
        "####Có nên lấy mean cho giá trị blood pressure hay loại bỏ luôn feature này? \n",
        "Giá trị này rất quan trọng trong việc chẩn đoán bệnh nhân tiểu đường sử dụng giá trị thiếu chính xác có thể đẫn đén việc chuẩn đoán sai."
      ]
    },
    {
      "cell_type": "code",
      "metadata": {
        "id": "S2QWC0zloTWy",
        "colab_type": "code",
        "outputId": "4f4feb03-1019-40a6-a734-2f286e1295f5",
        "colab": {
          "base_uri": "https://localhost:8080/",
          "height": 35
        }
      },
      "source": [
        "diabetes_mod = diabetes[(diabetes.BloodPressure != 0) & (diabetes.BMI != 0) & (diabetes.Glucose != 0)]\n",
        "print(diabetes.shape, diabetes_mod.shape)"
      ],
      "execution_count": 0,
      "outputs": [
        {
          "output_type": "stream",
          "text": [
            "(768, 9) (724, 9)\n"
          ],
          "name": "stdout"
        }
      ]
    },
    {
      "cell_type": "markdown",
      "metadata": {
        "id": "h3Q3NRs4qMKI",
        "colab_type": "text"
      },
      "source": [
        "#### Có nên loại bỏ các feature có nhiều missing value như SkinThickness và Insulin?\n",
        "Có khá nhiều missing value của SkinThickness và Insulin nhưng chưa thể biết được việc loại bỏ các giá trị này là ảnh hưởng tốt hay xấu tới model \n",
        "\n",
        "=> Phải kiểm chứng qua thực nghiệm"
      ]
    },
    {
      "cell_type": "code",
      "metadata": {
        "id": "lwYIlXdyrirg",
        "colab_type": "code",
        "colab": {}
      },
      "source": [
        "feature_names = ['Pregnancies', 'Glucose', 'BloodPressure', 'SkinThickness', 'Insulin', 'BMI', 'DiabetesPedigreeFunction', 'Age']\n",
        "X = diabetes_mod[feature_names]\n",
        "y = diabetes_mod.Outcome"
      ],
      "execution_count": 0,
      "outputs": []
    },
    {
      "cell_type": "code",
      "metadata": {
        "id": "3wcBdVA4xRm8",
        "colab_type": "code",
        "colab": {}
      },
      "source": [
        "from sklearn.model_selection import train_test_split\n",
        "from sklearn.model_selection import cross_val_score\n",
        "from sklearn.metrics import accuracy_score"
      ],
      "execution_count": 0,
      "outputs": []
    },
    {
      "cell_type": "code",
      "metadata": {
        "id": "JFfo-0YlxZmB",
        "colab_type": "code",
        "colab": {}
      },
      "source": [
        "X_train, X_test, y_train, y_test = train_test_split(X, y, stratify = diabetes_mod.Outcome, random_state=1995)"
      ],
      "execution_count": 0,
      "outputs": []
    },
    {
      "cell_type": "markdown",
      "metadata": {
        "id": "_-JEsyxJqtPo",
        "colab_type": "text"
      },
      "source": [
        "###K-Neighbors classify"
      ]
    },
    {
      "cell_type": "code",
      "metadata": {
        "id": "_-B7hzqZVbvG",
        "colab_type": "code",
        "outputId": "ede448b3-bef1-42f5-fa5a-261c028b0971",
        "colab": {
          "base_uri": "https://localhost:8080/",
          "height": 303
        }
      },
      "source": [
        "from sklearn.neighbors import KNeighborsClassifier\n",
        "training_accuracy = []\n",
        "test_accuracy = []\n",
        "neighbors_settings = range(1, 17)\n",
        "for n_neighbors in neighbors_settings:\n",
        "    # build the model\n",
        "    knn = KNeighborsClassifier(n_neighbors=n_neighbors)\n",
        "    knn.fit(X_train, y_train)\n",
        "    # record training set accuracy\n",
        "    training_accuracy.append(knn.score(X_train, y_train))\n",
        "    # record test set accuracy\n",
        "    test_accuracy.append(knn.score(X_test, y_test))\n",
        "\n",
        "plt.plot(neighbors_settings, training_accuracy, label=\"training accuracy\")\n",
        "plt.plot(neighbors_settings, test_accuracy, label=\"test accuracy\")\n",
        "plt.ylabel(\"Accuracy\")\n",
        "plt.xlabel(\"n_neighbors\")\n",
        "plt.legend()"
      ],
      "execution_count": 0,
      "outputs": [
        {
          "output_type": "execute_result",
          "data": {
            "text/plain": [
              "<matplotlib.legend.Legend at 0x7fa5fcfe3748>"
            ]
          },
          "metadata": {
            "tags": []
          },
          "execution_count": 45
        },
        {
          "output_type": "display_data",
          "data": {
            "image/png": "[encoded data removed]",
            "text/plain": [
              "<Figure size 432x288 with 1 Axes>"
            ]
          },
          "metadata": {
            "tags": []
          }
        }
      ]
    },
    {
      "cell_type": "code",
      "metadata": {
        "id": "ljJcBtAksPqm",
        "colab_type": "code",
        "outputId": "12048d2b-522a-4f4a-912b-0ee3d054de68",
        "colab": {
          "base_uri": "https://localhost:8080/",
          "height": 54
        }
      },
      "source": [
        "print('Accuracy of K-NN classifier on training set: {:.2f}'.format(knn.score(X_train, y_train)))\n",
        "print('Accuracy of K-NN classifier on test set: {:.2f}'.format(knn.score(X_test, y_test)))"
      ],
      "execution_count": 0,
      "outputs": [
        {
          "output_type": "stream",
          "text": [
            "Accuracy of K-NN classifier on training set: 0.77\n",
            "Accuracy of K-NN classifier on test set: 0.74\n"
          ],
          "name": "stdout"
        }
      ]
    },
    {
      "cell_type": "markdown",
      "metadata": {
        "id": "LmcoY7FlIwRs",
        "colab_type": "text"
      },
      "source": [
        "###Feature engineering\n",
        "\n",
        "####Tìm các important features"
      ]
    },
    {
      "cell_type": "code",
      "metadata": {
        "id": "_FX-K6ZjZHH7",
        "colab_type": "code",
        "colab": {}
      },
      "source": [
        "from sklearn.neighbors import KNeighborsClassifier\n",
        "from sklearn.svm import SVC\n",
        "from sklearn.linear_model import LogisticRegression\n",
        "from sklearn.tree import DecisionTreeClassifier\n",
        "from sklearn.naive_bayes import GaussianNB\n",
        "from sklearn.ensemble import RandomForestClassifier\n",
        "from sklearn.ensemble import GradientBoostingClassifier"
      ],
      "execution_count": 0,
      "outputs": []
    },
    {
      "cell_type": "code",
      "metadata": {
        "id": "-Zetf1--VeXy",
        "colab_type": "code",
        "outputId": "34730ca3-d21a-4f05-ffa7-7dcc638f8b70",
        "colab": {
          "base_uri": "https://localhost:8080/",
          "height": 54
        }
      },
      "source": [
        "tree = DecisionTreeClassifier(max_depth=3, random_state=0)\n",
        "tree.fit(X_train, y_train)\n",
        "print(\"Accuracy on training set: {:.3f}\".format(tree.score(X_train, y_train)))\n",
        "print(\"Accuracy on test set: {:.3f}\".format(tree.score(X_test, y_test)))"
      ],
      "execution_count": 0,
      "outputs": [
        {
          "output_type": "stream",
          "text": [
            "Accuracy on training set: 0.786\n",
            "Accuracy on test set: 0.751\n"
          ],
          "name": "stdout"
        }
      ]
    },
    {
      "cell_type": "code",
      "metadata": {
        "id": "wjKpzseua9Kj",
        "colab_type": "code",
        "outputId": "da718de7-4455-42f2-bcf2-9dd4f0c3834f",
        "colab": {
          "base_uri": "https://localhost:8080/",
          "height": 72
        }
      },
      "source": [
        "print(\"Feature importances:\\n{}\".format(tree.feature_importances_))"
      ],
      "execution_count": 0,
      "outputs": [
        {
          "output_type": "stream",
          "text": [
            "Feature importances:\n",
            "[0.         0.68230495 0.         0.         0.         0.23051405\n",
            " 0.         0.087181  ]\n"
          ],
          "name": "stdout"
        }
      ]
    },
    {
      "cell_type": "code",
      "metadata": {
        "id": "WJxHpNBRVtn4",
        "colab_type": "code",
        "colab": {}
      },
      "source": [
        "def plot_feature_importances_diabetes(model):\n",
        "    plt.figure(figsize=(8,6))\n",
        "    n_features = 8\n",
        "    plt.barh(range(n_features), model.feature_importances_, align='center')\n",
        "    plt.yticks(np.arange(n_features), feature_names)\n",
        "    plt.xlabel(\"Feature importance\")\n",
        "    plt.ylabel(\"Feature\")\n",
        "    plt.ylim(-1, n_features)"
      ],
      "execution_count": 0,
      "outputs": []
    },
    {
      "cell_type": "code",
      "metadata": {
        "id": "YcVoBuBeYA9Z",
        "colab_type": "code",
        "outputId": "972fb2f0-7458-4b94-d922-b3b31f137fa5",
        "colab": {
          "base_uri": "https://localhost:8080/",
          "height": 393
        }
      },
      "source": [
        "plot_feature_importances_diabetes(tree)"
      ],
      "execution_count": 0,
      "outputs": [
        {
          "output_type": "display_data",
          "data": {
            "image/png": "[encoded data removed]",
            "text/plain": [
              "<Figure size 576x432 with 1 Axes>"
            ]
          },
          "metadata": {
            "tags": []
          }
        }
      ]
    },
    {
      "cell_type": "markdown",
      "metadata": {
        "id": "JFrI4tTTYhEJ",
        "colab_type": "text"
      },
      "source": [
        "Feature Glucose quan trọng nhất trong bộ dữ liệu khi chạy Decision Tree"
      ]
    },
    {
      "cell_type": "code",
      "metadata": {
        "id": "tzANb9GfbCbK",
        "colab_type": "code",
        "outputId": "8ab681ea-cd98-4247-b06c-1dcea1ade96a",
        "colab": {
          "base_uri": "https://localhost:8080/",
          "height": 54
        }
      },
      "source": [
        "rf = RandomForestClassifier(max_depth=3, n_estimators=100, random_state=0)\n",
        "rf.fit(X_train, y_train)\n",
        "print(\"Accuracy on training set: {:.3f}\".format(rf.score(X_train, y_train)))\n",
        "print(\"Accuracy on test set: {:.3f}\".format(rf.score(X_test, y_test)))"
      ],
      "execution_count": 0,
      "outputs": [
        {
          "output_type": "stream",
          "text": [
            "Accuracy on training set: 0.801\n",
            "Accuracy on test set: 0.740\n"
          ],
          "name": "stdout"
        }
      ]
    },
    {
      "cell_type": "code",
      "metadata": {
        "id": "I_SWmHDIbIUq",
        "colab_type": "code",
        "outputId": "141ae8ae-8e8a-4059-9132-ebe239cbaa57",
        "colab": {
          "base_uri": "https://localhost:8080/",
          "height": 393
        }
      },
      "source": [
        "plot_feature_importances_diabetes(rf)"
      ],
      "execution_count": 0,
      "outputs": [
        {
          "output_type": "display_data",
          "data": {
            "image/png": "[encoded data removed]",
            "text/plain": [
              "<Figure size 576x432 with 1 Axes>"
            ]
          },
          "metadata": {
            "tags": []
          }
        }
      ]
    },
    {
      "cell_type": "markdown",
      "metadata": {
        "id": "8bMuq7nh2qvk",
        "colab_type": "text"
      },
      "source": [
        "####thử chỉ xử dụng các features quan trọng Age, Pregnancies, Diabetes Pedigree Function, BMI, Glucose"
      ]
    },
    {
      "cell_type": "code",
      "metadata": {
        "id": "DSe83c-q2270",
        "colab_type": "code",
        "colab": {}
      },
      "source": [
        "extract_features = ['Glucose', 'BMI', 'Age', 'DiabetesPedigreeFunction', 'Pregnancies']\n",
        "X_extract = diabetes_mod[extract_features]\n",
        "y_extract = diabetes_mod.Outcome\n",
        "X_train_e, X_test_e, y_train_e, y_test_e = train_test_split(X_extract, y_extract, stratify = diabetes_mod.Outcome, random_state=1995)"
      ],
      "execution_count": 0,
      "outputs": []
    },
    {
      "cell_type": "code",
      "metadata": {
        "id": "ZYWSYqFA3giD",
        "colab_type": "code",
        "outputId": "7fdc0b83-0362-46d7-8a93-e4e4a74afc18",
        "colab": {
          "base_uri": "https://localhost:8080/",
          "height": 54
        }
      },
      "source": [
        "rf_e = RandomForestClassifier(max_depth=3, n_estimators=100, random_state=0)\n",
        "rf_e.fit(X_train_e, y_train_e)\n",
        "print(\"Accuracy on training set: {:.3f}\".format(rf_e.score(X_train_e, y_train_e)))\n",
        "print(\"Accuracy on test set: {:.3f}\".format(rf_e.score(X_test_e, y_test_e)))"
      ],
      "execution_count": 0,
      "outputs": [
        {
          "output_type": "stream",
          "text": [
            "Accuracy on training set: 0.805\n",
            "Accuracy on test set: 0.773\n"
          ],
          "name": "stdout"
        }
      ]
    },
    {
      "cell_type": "code",
      "metadata": {
        "id": "Q137BJeG-IwQ",
        "colab_type": "code",
        "colab": {}
      },
      "source": [
        "from sklearn.model_selection import train_test_split\n",
        "from sklearn.model_selection import cross_val_score\n",
        "from sklearn.metrics import accuracy_score\n",
        "from sklearn.model_selection import KFold"
      ],
      "execution_count": 0,
      "outputs": []
    },
    {
      "cell_type": "code",
      "metadata": {
        "id": "J3R9xzHE-JwM",
        "colab_type": "code",
        "outputId": "1236c76d-9c83-4f13-a958-8619fc710100",
        "colab": {
          "base_uri": "https://localhost:8080/",
          "height": 35
        }
      },
      "source": [
        "kfold = KFold(n_splits=10, random_state=10) \n",
        "score = cross_val_score(rf_e, X_extract, y_extract, cv=kfold, scoring='accuracy').mean()\n",
        "print(\"Accuracy with extracted features data: {:.3f}\".format(score))"
      ],
      "execution_count": 0,
      "outputs": [
        {
          "output_type": "stream",
          "text": [
            "Accuracy with extracted features data: 0.774\n"
          ],
          "name": "stdout"
        }
      ]
    },
    {
      "cell_type": "code",
      "metadata": {
        "id": "QrmuHqiP-_F8",
        "colab_type": "code",
        "outputId": "888cf4eb-d0ad-43ed-aafe-8239a2420d87",
        "colab": {
          "base_uri": "https://localhost:8080/",
          "height": 35
        }
      },
      "source": [
        "score = cross_val_score(rf, X, y, cv=kfold, scoring='accuracy').mean()\n",
        "print(\"Accuracy with full data: {:.3f}\".format(score))"
      ],
      "execution_count": 0,
      "outputs": [
        {
          "output_type": "stream",
          "text": [
            "Accuracy with full data: 0.759\n"
          ],
          "name": "stdout"
        }
      ]
    }
  ]
}